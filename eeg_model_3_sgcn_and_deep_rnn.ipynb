{
  "cells": [
    {
      "cell_type": "code",
      "execution_count": null,
      "metadata": {
        "colab": {
          "base_uri": "https://localhost:8080/"
        },
        "id": "PSbrt9hb6MkI",
        "outputId": "eaf5863c-613e-4784-f533-1143c8c0561f"
      },
      "outputs": [
        {
          "name": "stdout",
          "output_type": "stream",
          "text": [
            "Mounted at /content/drive\n"
          ]
        }
      ],
      "source": [
        "from google.colab import drive\n",
        "drive.mount('/content/drive')\n"
      ]
    },
    {
      "cell_type": "code",
      "execution_count": null,
      "metadata": {
        "id": "7l5uInNbAb3_"
      },
      "outputs": [],
      "source": [
        "import pandas as pd\n",
        "path = '/content/drive/MyDrive/chbmit_preprocessed_data.csv'\n",
        "df = pd.read_csv(path)\n"
      ]
    },
    {
      "cell_type": "code",
      "execution_count": null,
      "metadata": {
        "colab": {
          "base_uri": "https://localhost:8080/"
        },
        "id": "ZU4q_OzhAdK0",
        "outputId": "fb32f7f4-3d90-463a-b2c8-30342749fc98"
      },
      "outputs": [
        {
          "name": "stdout",
          "output_type": "stream",
          "text": [
            "Shape: (2097150, 24)\n",
            "Columns: ['# FP1-F7', 'C3-P3', 'C4-P4', 'CZ-PZ', 'F3-C3', 'F4-C4', 'F7-T7', 'F8-T8', 'FP1-F3', 'FP2-F4', 'FP2-F8', 'FT10-T8', 'FT9-FT10', 'FZ-CZ', 'P3-O1', 'P4-O2', 'P7-O1', 'P7-T7', 'P8-O2', 'T7-FT9', 'T7-P7', 'T8-P8-0', 'T8-P8-1', 'Outcome']\n"
          ]
        }
      ],
      "source": [
        "print(\"Shape:\", df.shape)\n",
        "print(\"Columns:\", df.columns.tolist())\n"
      ]
    },
    {
      "cell_type": "code",
      "execution_count": null,
      "metadata": {
        "colab": {
          "base_uri": "https://localhost:8080/"
        },
        "id": "-LfCLpZnAgT7",
        "outputId": "0bb649c4-a64e-44db-f46d-e53f067d0b46"
      },
      "outputs": [
        {
          "name": "stdout",
          "output_type": "stream",
          "text": [
            "Class Distribution:\n",
            "Outcome\n",
            "0.0    1048575\n",
            "1.0    1048575\n",
            "Name: count, dtype: int64\n"
          ]
        }
      ],
      "source": [
        "print(\"Class Distribution:\")\n",
        "print(df['Outcome'].value_counts())\n"
      ]
    },
    {
      "cell_type": "code",
      "execution_count": null,
      "metadata": {
        "id": "12URkrWJA4fr"
      },
      "outputs": [],
      "source": [
        "import torch\n",
        "import torch.nn as nn\n",
        "import torch.optim as optim\n",
        "from torch.utils.data import DataLoader, TensorDataset\n",
        "import numpy as np\n",
        "from sklearn.metrics import accuracy_score\n",
        "from sklearn.model_selection import train_test_split\n",
        "\n",
        "# Spectral GCN Layer\n",
        "class SGCNLayer(nn.Module):\n",
        "    def __init__(self, in_features, out_features, adj):\n",
        "        super(SGCNLayer, self).__init__()\n",
        "        self.adj = adj\n",
        "        self.linear = nn.Linear(in_features, out_features)\n",
        "\n",
        "    def forward(self, x):\n",
        "      batch, time_steps, num_features = x.size()\n",
        "      x = x.view(-1, num_features)  # (batch*time, features)\n",
        "\n",
        "      # Move adjacency matrix to same device as input\n",
        "      adj = self.adj.to(x.device)\n",
        "\n",
        "      x = torch.matmul(adj, x.T).T  # spectral filtering\n",
        "      x = self.linear(x)\n",
        "      return x.view(batch, time_steps, -1)\n"
      ]
    },
    {
      "cell_type": "code",
      "execution_count": null,
      "metadata": {
        "id": "uW9v9GNEA8A0"
      },
      "outputs": [],
      "source": [
        "# Deep RNN (3 LSTM layers)\n",
        "class DeepRNN(nn.Module):\n",
        "    def __init__(self, input_dim, hidden_dim, num_layers, output_dim):\n",
        "        super(DeepRNN, self).__init__()\n",
        "        self.rnn = nn.LSTM(input_dim, hidden_dim, num_layers=num_layers, batch_first=True)\n",
        "        self.fc = nn.Linear(hidden_dim, output_dim)\n",
        "\n",
        "    def forward(self, x):\n",
        "        out, _ = self.rnn(x)\n",
        "        return self.fc(out[:, -1, :])  # only final time step output\n"
      ]
    },
    {
      "cell_type": "code",
      "execution_count": null,
      "metadata": {
        "id": "6h6mNcQuBABf"
      },
      "outputs": [],
      "source": [
        "# Combined Model\n",
        "class SGCN_RNN_Model(nn.Module):\n",
        "    def __init__(self, in_features, adj, gcn_out=32, rnn_hidden=64, num_layers=3):\n",
        "        super(SGCN_RNN_Model, self).__init__()\n",
        "        self.sgcn = SGCNLayer(in_features, gcn_out, adj)\n",
        "        self.rnn = DeepRNN(gcn_out, rnn_hidden, num_layers, 2)\n",
        "\n",
        "    def forward(self, x):\n",
        "        x = self.sgcn(x)\n",
        "        return self.rnn(x)"
      ]
    },
    {
      "cell_type": "code",
      "execution_count": null,
      "metadata": {
        "id": "__I6yQhFBYFc"
      },
      "outputs": [],
      "source": [
        "import torch\n",
        "import torch.nn as nn\n",
        "import torch.optim as optim\n",
        "from torch.utils.data import DataLoader, TensorDataset\n",
        "from sklearn.model_selection import train_test_split\n",
        "from sklearn.metrics import accuracy_score\n",
        "import numpy as np\n",
        "import pandas as pd\n",
        "\n",
        "# Identity adjacency for SGCN (can replace with correlation-based matrix later)\n",
        "def create_adj_matrix(features=23):\n",
        "    A = np.identity(features)\n",
        "    return torch.tensor(A, dtype=torch.float32)\n"
      ]
    },
    {
      "cell_type": "code",
      "execution_count": null,
      "metadata": {
        "id": "pqxOSZH3BZTA"
      },
      "outputs": [],
      "source": [
        "import numpy as np\n",
        "from sklearn.model_selection import train_test_split\n",
        "from torch.utils.data import TensorDataset, DataLoader\n",
        "import torch\n",
        "\n",
        "# Drop Outcome column for features, keep Outcome for labels\n",
        "X = df.drop(columns=['Outcome']).values\n",
        "y = df['Outcome'].values\n",
        "\n",
        "# Reshape into (samples, time_steps, features)\n",
        "time_steps = 10\n",
        "X = X[:len(X) - (len(X) % time_steps)]\n",
        "y = y[:len(y) - (len(y) % time_steps)]\n",
        "\n",
        "X = X.reshape(-1, time_steps, 23)\n",
        "y = y[::time_steps]  # one label per window\n",
        "\n",
        "# Normalize\n",
        "X = (X - np.mean(X)) / np.std(X)\n",
        "\n",
        "# Stratified split\n",
        "X_train, X_temp, y_train, y_temp = train_test_split(X, y, test_size=0.30, stratify=y, random_state=42)\n",
        "X_val, X_test, y_val, y_test = train_test_split(X_temp, y_temp, test_size=0.50, stratify=y_temp, random_state=42)\n",
        "\n",
        "# Convert to PyTorch tensors\n",
        "train_ds = TensorDataset(torch.tensor(X_train, dtype=torch.float32), torch.tensor(y_train, dtype=torch.long))\n",
        "val_ds   = TensorDataset(torch.tensor(X_val, dtype=torch.float32), torch.tensor(y_val, dtype=torch.long))\n",
        "test_ds  = TensorDataset(torch.tensor(X_test, dtype=torch.float32), torch.tensor(y_test, dtype=torch.long))\n",
        "\n",
        "train_loader = DataLoader(train_ds, batch_size=64, shuffle=True)\n",
        "val_loader   = DataLoader(val_ds, batch_size=64)\n",
        "test_loader  = DataLoader(test_ds, batch_size=64)\n"
      ]
    },
    {
      "cell_type": "code",
      "execution_count": null,
      "metadata": {
        "id": "YhxrZA3mClng"
      },
      "outputs": [],
      "source": [
        "device = torch.device(\"cuda\")\n",
        "\n",
        "adj = create_adj_matrix()\n",
        "model = SGCN_RNN_Model(in_features=23, adj=adj).to(device)\n"
      ]
    },
    {
      "cell_type": "code",
      "execution_count": null,
      "metadata": {
        "colab": {
          "base_uri": "https://localhost:8080/"
        },
        "id": "kbo6vyLzB-S1",
        "outputId": "93abbe9b-9036-474d-ede4-ae2843b46c96"
      },
      "outputs": [
        {
          "name": "stdout",
          "output_type": "stream",
          "text": [
            "[Epoch 1] Train Loss: 0.3939 | Val Accuracy: 0.8378\n",
            "✅ Saved new best model (val acc: 0.8378)\n",
            "[Epoch 2] Train Loss: 0.3394 | Val Accuracy: 0.8549\n",
            "✅ Saved new best model (val acc: 0.8549)\n",
            "[Epoch 3] Train Loss: 0.3166 | Val Accuracy: 0.8605\n",
            "✅ Saved new best model (val acc: 0.8605)\n",
            "[Epoch 4] Train Loss: 0.3011 | Val Accuracy: 0.8657\n",
            "✅ Saved new best model (val acc: 0.8657)\n",
            "[Epoch 5] Train Loss: 0.2879 | Val Accuracy: 0.8667\n",
            "✅ Saved new best model (val acc: 0.8667)\n",
            "[Epoch 6] Train Loss: 0.2761 | Val Accuracy: 0.8738\n",
            "✅ Saved new best model (val acc: 0.8738)\n",
            "[Epoch 7] Train Loss: 0.2655 | Val Accuracy: 0.8747\n",
            "✅ Saved new best model (val acc: 0.8747)\n",
            "[Epoch 8] Train Loss: 0.2550 | Val Accuracy: 0.8780\n",
            "✅ Saved new best model (val acc: 0.8780)\n",
            "[Epoch 9] Train Loss: 0.2457 | Val Accuracy: 0.8763\n",
            "[Epoch 10] Train Loss: 0.2362 | Val Accuracy: 0.8757\n",
            "[Epoch 11] Train Loss: 0.2262 | Val Accuracy: 0.8760\n",
            "[Epoch 12] Train Loss: 0.2174 | Val Accuracy: 0.8793\n",
            "✅ Saved new best model (val acc: 0.8793)\n",
            "[Epoch 13] Train Loss: 0.2086 | Val Accuracy: 0.8793\n",
            "[Epoch 14] Train Loss: 0.1995 | Val Accuracy: 0.8773\n",
            "[Epoch 15] Train Loss: 0.1912 | Val Accuracy: 0.8780\n",
            "[Epoch 16] Train Loss: 0.1835 | Val Accuracy: 0.8734\n",
            "[Epoch 17] Train Loss: 0.1760 | Val Accuracy: 0.8729\n",
            "[Epoch 18] Train Loss: 0.1685 | Val Accuracy: 0.8748\n",
            "[Epoch 19] Train Loss: 0.1611 | Val Accuracy: 0.8717\n",
            "[Epoch 20] Train Loss: 0.1547 | Val Accuracy: 0.8716\n",
            "[Epoch 21] Train Loss: 0.1481 | Val Accuracy: 0.8735\n",
            "[Epoch 22] Train Loss: 0.1414 | Val Accuracy: 0.8707\n",
            "[Epoch 23] Train Loss: 0.1360 | Val Accuracy: 0.8722\n",
            "[Epoch 24] Train Loss: 0.1316 | Val Accuracy: 0.8713\n",
            "[Epoch 25] Train Loss: 0.1255 | Val Accuracy: 0.8721\n",
            "[Epoch 26] Train Loss: 0.1219 | Val Accuracy: 0.8692\n",
            "[Epoch 27] Train Loss: 0.1156 | Val Accuracy: 0.8712\n",
            "[Epoch 28] Train Loss: 0.1131 | Val Accuracy: 0.8699\n",
            "[Epoch 29] Train Loss: 0.1085 | Val Accuracy: 0.8686\n",
            "[Epoch 30] Train Loss: 0.1040 | Val Accuracy: 0.8675\n"
          ]
        }
      ],
      "source": [
        "import torch.nn as nn\n",
        "import torch.optim as optim\n",
        "from sklearn.metrics import accuracy_score\n",
        "\n",
        "# Loss and Optimizer\n",
        "criterion = nn.CrossEntropyLoss()\n",
        "optimizer = optim.Adam(model.parameters(), lr=0.001)\n",
        "\n",
        "best_val_acc = 0.0\n",
        "\n",
        "for epoch in range(1, 31):  # 30 epochs\n",
        "    # === Training ===\n",
        "    model.train()\n",
        "    total_train_loss = 0.0\n",
        "\n",
        "    for xb, yb in train_loader:\n",
        "        xb, yb = xb.to(device), yb.to(device)\n",
        "\n",
        "        optimizer.zero_grad()\n",
        "        outputs = model(xb)\n",
        "        loss = criterion(outputs, yb)\n",
        "        loss.backward()\n",
        "        optimizer.step()\n",
        "\n",
        "        total_train_loss += loss.item()\n",
        "\n",
        "    avg_train_loss = total_train_loss / len(train_loader)\n",
        "\n",
        "    # === Validation ===\n",
        "    model.eval()\n",
        "    val_preds, val_labels = [], []\n",
        "\n",
        "    with torch.no_grad():\n",
        "        for xb, yb in val_loader:\n",
        "            xb = xb.to(device)\n",
        "            outputs = model(xb)\n",
        "            preds = torch.argmax(outputs, dim=1).cpu().numpy()\n",
        "            val_preds.extend(preds)\n",
        "            val_labels.extend(yb.numpy())\n",
        "\n",
        "    val_acc = accuracy_score(val_labels, val_preds)\n",
        "\n",
        "    print(f\"[Epoch {epoch}] Train Loss: {avg_train_loss:.4f} | Val Accuracy: {val_acc:.4f}\")\n",
        "\n",
        "    # Save best model\n",
        "    if val_acc > best_val_acc:\n",
        "        best_val_acc = val_acc\n",
        "        torch.save(model.state_dict(), \"best_sgcn_rnn.pt\")\n",
        "        print(f\"✅ Saved new best model (val acc: {val_acc:.4f})\")\n"
      ]
    },
    {
      "cell_type": "code",
      "execution_count": null,
      "metadata": {
        "colab": {
          "base_uri": "https://localhost:8080/",
          "height": 715
        },
        "id": "Jeeni5nBEX1I",
        "outputId": "e56ed620-b2c4-4cd6-e9ac-8c6f3f95ccd4"
      },
      "outputs": [
        {
          "name": "stdout",
          "output_type": "stream",
          "text": [
            "✅ Test Accuracy: 0.8761\n",
            "\n",
            "📄 Classification Report:\n",
            "              precision    recall  f1-score   support\n",
            "\n",
            " Non-Seizure       0.86      0.90      0.88     15729\n",
            "     Seizure       0.89      0.85      0.87     15729\n",
            "\n",
            "    accuracy                           0.88     31458\n",
            "   macro avg       0.88      0.88      0.88     31458\n",
            "weighted avg       0.88      0.88      0.88     31458\n",
            "\n"
          ]
        },
        {
          "data": {
            "image/png": "[encoded data removed]",
            "text/plain": [
              "<Figure size 600x500 with 1 Axes>"
            ]
          },
          "metadata": {},
          "output_type": "display_data"
        }
      ],
      "source": [
        "from sklearn.metrics import accuracy_score, confusion_matrix, classification_report\n",
        "import seaborn as sns\n",
        "import matplotlib.pyplot as plt\n",
        "\n",
        "# Load best model\n",
        "model.load_state_dict(torch.load(\"best_sgcn_rnn.pt\"))\n",
        "model.eval()\n",
        "\n",
        "# Run inference on test set\n",
        "test_preds, test_labels = [], []\n",
        "with torch.no_grad():\n",
        "    for xb, yb in test_loader:\n",
        "        xb = xb.to(device)\n",
        "        outputs = model(xb)\n",
        "        preds = torch.argmax(outputs, dim=1).cpu().numpy()\n",
        "        test_preds.extend(preds)\n",
        "        test_labels.extend(yb.numpy())\n",
        "\n",
        "# Accuracy\n",
        "test_acc = accuracy_score(test_labels, test_preds)\n",
        "print(f\"✅ Test Accuracy: {test_acc:.4f}\")\n",
        "\n",
        "# Classification Report (includes precision, recall, F1-score)\n",
        "print(\"\\n📄 Classification Report:\")\n",
        "print(classification_report(test_labels, test_preds, target_names=[\"Non-Seizure\", \"Seizure\"]))\n",
        "\n",
        "# Confusion Matrix\n",
        "cm = confusion_matrix(test_labels, test_preds)\n",
        "\n",
        "# Plot Confusion Matrix\n",
        "plt.figure(figsize=(6, 5))\n",
        "sns.heatmap(cm, annot=True, fmt=\"d\", cmap=\"Blues\", cbar=False,\n",
        "            xticklabels=[\"Non-Seizure\", \"Seizure\"],\n",
        "            yticklabels=[\"Non-Seizure\", \"Seizure\"])\n",
        "plt.xlabel(\"Predicted\")\n",
        "plt.ylabel(\"Actual\")\n",
        "plt.title(\"Confusion Matrix - Test Set\")\n",
        "plt.tight_layout()\n",
        "plt.show()\n"
      ]
    }
  ],
  "metadata": {
    "accelerator": "GPU",
    "colab": {
      "gpuType": "T4",
      "provenance": []
    },
    "kernelspec": {
      "display_name": "Python 3",
      "name": "python3"
    },
    "language_info": {
      "name": "python"
    }
  },
  "nbformat": 4,
  "nbformat_minor": 0
}
