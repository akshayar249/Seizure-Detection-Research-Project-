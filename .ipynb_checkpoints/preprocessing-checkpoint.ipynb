{
 "cells": [
  {
   "cell_type": "markdown",
   "id": "2bcc3a9e-770b-45ac-8ca9-108f6c8dd612",
   "metadata": {},
   "source": [
    "Checking if docker container has the correct dependencies installed\n",
    "\n",
    "bdf - BioSemi Data Format"
   ]
  },
  {
   "cell_type": "code",
   "execution_count": null,
   "id": "30bc697a",
   "metadata": {},
   "outputs": [],
   "source": [
    "import mne\n",
    "import pywt\n",
    "import matplotlib\n",
    "import numpy as np\n",
    "\n",
    "# Print versions of all dependencies\n",
    "print(\"MNE version:\", mne.__version__)\n",
    "print(\"PyWavelets version:\", pywt.__version__)\n",
    "print(\"Matplotlib version:\", matplotlib.__version__)\n",
    "print(\"NumPy version:\", np.__version__)\n"
   ]
  },
  {
   "cell_type": "markdown",
   "id": "b606c19e-4a93-4c10-9bc1-b4bf1fdbe892",
   "metadata": {},
   "source": [
    "# Visualising Raw Data"
   ]
  },
  {
   "cell_type": "code",
   "execution_count": null,
   "id": "b1368057-f769-43ba-a393-8528317dc2a3",
   "metadata": {},
   "outputs": [],
   "source": [
    "# Load the raw BDF file\n",
    "raw = mne.io.read_raw_bdf('EEG_Cat_Study4_II_II_S1.bdf', preload=True)\n",
    "raw.plot(n_channels=32, scalings='auto', title='Raw EEG')"
   ]
  },
  {
   "cell_type": "markdown",
   "id": "6717139e-1593-4f6b-bd8f-4f4cc54891f8",
   "metadata": {},
   "source": [
    "Channels (Y-axis): The labels like FP1, AF7, F3, etc., represent EEG electrode positions based on the 10-20 system, which maps locations on the scalp (e.g., FP = frontal pole, F = frontal, C = central, P = parietal, O = occipital). \n",
    "\n",
    "Time (X-axis): The x-axis shows time in seconds, spanning from 0 to about 1400 seconds (roughly 23 minutes). This is the duration of your recording.\n",
    "\n",
    "Signal (Waveforms): Each horizontal line represents the electrical activity (in microvolts) recorded by an electrode over time. The signals appear relatively flat with small fluctuations, which is common in raw EEG data before filtering or processing. The flatness might indicate low amplitude activity or a need for preprocessing to remove noise/artifacts.\n",
    "\n",
    "Shading on the Right: The dark vertical bar at the end likely indicates the end of the recording or a marker/event in the data (e.g., the recording stopped or a specific condition changed)."
   ]
  },
  {
   "cell_type": "code",
   "execution_count": null,
   "id": "67fb5d1f-c11e-40df-8b9f-84e7953d2eb8",
   "metadata": {},
   "outputs": [],
   "source": [
    "#Finding the metadata\n",
    "print(\"Channels:\", raw.info['ch_names'])\n",
    "print(\"Sampling rate:\", raw.info['sfreq'])\n",
    "print(\"Data shape:\", raw.get_data().shape)"
   ]
  },
  {
   "cell_type": "markdown",
   "id": "735c763d-f2e6-4862-818d-63c8a6c5c364",
   "metadata": {},
   "source": [
    "## Interpretation of channels:\n",
    "\n",
    "EEG Electrodes: Most channels (e.g., Fp1, F3, Cz, Pz) are scalp electrodes measuring brain activity. The naming reflects their positions: F (frontal), C (central), P (parietal), O (occipital), T (temporal), with odd numbers on the left (e.g., F3), even on the right (e.g., F4), and z for midline (e.g., Cz).\n",
    "\n",
    "Reference/EOG Channels: Channels like M1, M2 (likely mastoid references), LVEOG, RVEOG (vertical eye movements), LHEOG, RHEOG (horizontal eye movements), and NAS (nasion) are not EEG but are used for re-referencing or artifact detection (e.g., eye blinks, muscle movements).\n",
    "\n",
    "Other: NFpz might be a frontal midline electrode, and \"Status\" is likely a non-EEG channel recording events or triggers (common in BioSemi BDF files)."
   ]
  },
  {
   "cell_type": "markdown",
   "id": "41af438e-2da6-42fc-990d-cbcaa411f737",
   "metadata": {},
   "source": [
    "## Interpretation of Sampling Rate:\n",
    "\n",
    "Temporal Resolution: At 256 Hz, you have a data point every 1/256 seconds (~3.9 ms), which gives good temporal resolution for capturing brain activity.\n",
    "\n",
    "Frequency Range: The Nyquist frequency is 256/2 = 128 Hz, meaning you can accurately measure brain activity up to 128 Hz. This covers all major EEG frequency bands:\n",
    "Delta (0.5–4 Hz)\n",
    "Theta (4–8 Hz)\n",
    "Alpha (8–12 Hz)\n",
    "Beta (12–30 Hz)\n",
    "Gamma (30–100 Hz) You can even capture some high-frequency activity (e.g., ripples up to 128 Hz), though gamma above 100 Hz might be less reliable due to noise.\n",
    "\n",
    "Recording Duration: At 256 Hz, this corresponds to 389,888 / 256 = 1523 seconds (~25 minutes), which aligns with the ~1400 seconds in your earlier plot (the difference might be due to trimming or plotting a subset)."
   ]
  },
  {
   "cell_type": "markdown",
   "id": "7e43842c-1af0-4b47-aeef-1df307b22efb",
   "metadata": {},
   "source": [
    "## Intepretation of Data Shape:\n",
    "\n",
    "First Dimension (73): Matches your 73 channels (EEG electrodes + EOG + references + Status).\n",
    "    \n",
    "Second Dimension (389,888): The number of samples per channel, which at 256 Hz corresponds to 1523 seconds of recording (as calculated above)."
   ]
  },
  {
   "cell_type": "markdown",
   "id": "9de3510a-9b5e-4cec-ae4e-78d6b185ca67",
   "metadata": {},
   "source": [
    "## Conclusion\n",
    "\n",
    "A 25-minute EEG recording at 256 Hz across 73 channels (including scalp, EOG, and reference/event) allows for the study of brain activity up to 128 Hz with standard temporal resolution."
   ]
  },
  {
   "cell_type": "markdown",
   "id": "5d4eb1b6-d38c-4130-96d1-41cc1017f36f",
   "metadata": {},
   "source": [
    "# Bandpass Filtering"
   ]
  },
  {
   "cell_type": "markdown",
   "id": "37c61311-5f33-469a-9f2a-7713cfa9f2c6",
   "metadata": {},
   "source": [
    "## Requirement:\n",
    "\n",
    "EEG signals typically contain useful information in the 0.5–40 Hz range.\n",
    "\n",
    "Frequencies below 0.5 Hz (drift) or above 40–50 Hz (muscle artifacts, electrical noise) are almost always noise."
   ]
  },
  {
   "cell_type": "code",
   "execution_count": null,
   "id": "cefdf3e6-c231-4c69-99ae-d61db171e9e0",
   "metadata": {},
   "outputs": [],
   "source": [
    "#Apply bandpass filter (0.5–40 Hz is typical for EEG)\n",
    "raw_filtered = raw.copy().filter(l_freq=0.5, h_freq=40.0)"
   ]
  },
  {
   "cell_type": "code",
   "execution_count": null,
   "id": "d036bbde-1630-4268-b589-a008ded72dd3",
   "metadata": {},
   "outputs": [],
   "source": [
    "#Plot the raw vs. filtered signals to compare\n",
    "raw.plot(title=\"Original EEG Signal\")\n",
    "raw_filtered.plot(title=\"Bandpass Filtered EEG Signal (0.5–40 Hz)\")\n"
   ]
  },
  {
   "cell_type": "code",
   "execution_count": null,
   "id": "8e49fe36-f6f8-4dec-9cf1-43942ac4bcdb",
   "metadata": {},
   "outputs": [],
   "source": [
    "#detecting power line noise\n",
    "raw_filtered.plot_psd(fmax=100)\n"
   ]
  },
  {
   "cell_type": "markdown",
   "id": "2161b07c-d113-40ce-9ee1-1a6b0ab9363c",
   "metadata": {},
   "source": [
    "## Wavelet Denoising: Step-by-Step\n",
    "\n",
    "- Starting with `raw_filtered`: EEG data already band-pass filtered (0.5–40 Hz).\n",
    "- Goal: Use wavelet transform to reduce noise within 0.5–40 Hz while keeping EEG features.\n",
    "- Steps: Decompose signal, apply threshold, reconstruct, and visualize."
   ]
  },
  {
   "cell_type": "code",
   "execution_count": null,
   "id": "acca62af-ac37-4a61-8d69-4c2d8551664a",
   "metadata": {},
   "outputs": [],
   "source": [
    "# Extract filtered EEG data\n",
    "data_filtered = raw_filtered.get_data()  # Shape: (73, 389888)\n",
    "n_channels, n_samples = data_filtered.shape"
   ]
  },
  {
   "cell_type": "code",
   "execution_count": null,
   "id": "06b66f66-b281-4beb-abe4-e56c9f870d71",
   "metadata": {},
   "outputs": [],
   "source": [
    "# Plot of filtered data\n",
    "raw_filtered.plot(start=0, duration=10, n_channels=32, scalings='auto', title=\"Filtered EEG (Before Wavelet Denoising)\")"
   ]
  },
  {
   "cell_type": "markdown",
   "id": "07595117-c744-4fc9-a9d2-56484dbeb479",
   "metadata": {},
   "source": [
    "## Interpretation: Filtered EEG\n",
    "\n",
    "- Plot shows 32 channels, 10 seconds.\n",
    "- Slow waves (e.g., alpha 8–12 Hz in posterior channels like Pz) are visible.\n",
    "- Some high-frequency noise (e.g., muscle artifacts) and small fluctuations remain."
   ]
  },
  {
   "cell_type": "code",
   "execution_count": null,
   "id": "3ec91246-c1df-4c4c-bca8-5986350f1392",
   "metadata": {},
   "outputs": [],
   "source": [
    "# Wavelet decomposition for all channels\n",
    "wavelet = 'db4'  # Daubechies wavelet\n",
    "level = 5  # Decomposition level\n",
    "coeffs_list = []\n",
    "\n",
    "# Decompose each channel\n",
    "for ch_idx in range(n_channels):\n",
    "    coeffs = pywt.wavedec(data_filtered[ch_idx, :], wavelet, level=level, mode='per')\n",
    "    coeffs_list.append(coeffs)"
   ]
  },
  {
   "cell_type": "code",
   "execution_count": null,
   "id": "a81b06a3-3cb9-426e-aaa3-ceac441f6f5b",
   "metadata": {},
   "outputs": [],
   "source": [
    "# Plot of first channel\n",
    "plt.figure(figsize=(15, 5))\n",
    "for i in range(len(coeffs_list[0])):\n",
    "    plt.subplot(level + 1, 1, i + 1)\n",
    "    plt.plot(coeffs_list[0][i])\n",
    "    plt.title(f'Channel Fp1 - Wavelet Coeffs (Level {i})')\n",
    "plt.tight_layout()\n",
    "plt.show()"
   ]
  },
  {
   "cell_type": "markdown",
   "id": "6ed863ea-4bd7-4028-9280-b2763952c758",
   "metadata": {},
   "source": [
    "## Interpretation: Wavelet Coefficients\n",
    "\n",
    "- Coeffs split into 6 parts: 1 approximation (level 0), 5 details (levels 1–5).\n",
    "- Approximation (level 0): Low-frequency components (e.g., delta, theta).\n",
    "- Details (levels 1–5): Higher frequencies (e.g., alpha, beta, gamma).\n",
    "- High-frequency noise likely in higher detail levels (e.g., levels 4–5)."
   ]
  },
  {
   "cell_type": "code",
   "execution_count": null,
   "id": "534f41f9-2a2e-4590-be15-82e388eb255a",
   "metadata": {},
   "outputs": [],
   "source": [
    "# Thresholding for noise removal\n",
    "data_denoised = np.zeros_like(data_filtered)\n",
    "\n",
    "# Apply soft thresholding to each channel\n",
    "for ch_idx in range(n_channels):\n",
    "    coeffs = coeffs_list[ch_idx]\n",
    "    # Estimate noise level from finest detail coeffs\n",
    "    sigma = np.median(np.abs(coeffs[-1])) / 0.6745\n",
    "    threshold = sigma * np.sqrt(2 * np.log(n_samples))\n",
    "    \n",
    "    # Soft threshold on detail coeffs (skip approximation: coeffs[0])\n",
    "    for i in range(1, len(coeffs)):\n",
    "        coeffs[i] = np.sign(coeffs[i]) * np.maximum(np.abs(coeffs[i]) - threshold, 0)\n",
    "    \n",
    "    # Reconstruct signal\n",
    "    data_denoised[ch_idx, :] = pywt.waverec(coeffs, wavelet, mode='per')"
   ]
  },
  {
   "cell_type": "code",
   "execution_count": null,
   "id": "57478ee4-8505-48f9-9eed-0bf83076d27b",
   "metadata": {},
   "outputs": [],
   "source": [
    "# Plot first 10 seconds of denoised data (32 channels)\n",
    "raw_denoised = raw_filtered.copy()\n",
    "raw_denoised._data = data_denoised\n",
    "raw_denoised.plot(start=0, duration=10, n_channels=32, scalings='auto', title=\"Denoised EEG (After Wavelet Denoising)\")"
   ]
  },
  {
   "cell_type": "markdown",
   "id": "91fe1eab-0002-404c-9200-d492947a3391",
   "metadata": {},
   "source": [
    "## Interpretation: Denoised EEG\n",
    "\n",
    "- Denoised plot looks smoother than filtered plot.\n",
    "- High-frequency noise (e.g., small rapid fluctuations) reduced.\n",
    "- Slow waves (e.g., alpha in Pz, O1) preserved.\n",
    "- Check frontal channels (e.g., Fp1): Eye blinks still present (to be removed later)."
   ]
  },
  {
   "cell_type": "code",
   "execution_count": null,
   "id": "87ad4806-345e-4d01-82c9-d29c0f1f78bc",
   "metadata": {},
   "outputs": [],
   "source": [
    "# Plot PSD to compare frequency content\n",
    "raw_filtered.plot_psd(fmax=100, show=False, color='blue', alpha=0.5)\n",
    "raw_denoised.plot_psd(fmax=100, show=False, color='green', alpha=0.5)\n",
    "plt.title(\"PSD: Filtered (Blue) vs Denoised (Green)\")\n",
    "plt.show()"
   ]
  },
  {
   "cell_type": "markdown",
   "id": "3c8c387e-fe20-46ec-8a0d-b8c37401b439",
   "metadata": {},
   "source": [
    "## Interpretation: PSD Comparison\n",
    "\n",
    "- Blue: Filtered data PSD.\n",
    "- Green: Denoised data PSD.\n",
    "- Denoised PSD shows reduced power in higher frequencies (e.g., 30–40 Hz), likely muscle noise.\n",
    "- Main EEG bands (0.5–30 Hz) preserved, confirming wavelet denoising kept brain signals."
   ]
  },
  {
   "cell_type": "markdown",
   "id": "5c9f108d-ac55-4282-8b1c-58dbb0e47490",
   "metadata": {},
   "source": [
    "## Adaptive Filtering: Step-by-Step\n",
    "\n",
    "- Starting with `raw_denoised`: EEG data after wavelet denoising.\n",
    "- Goal: Remove eye blinks using EOG channels (LVEOG, RVEOG, LHEOG, RHEOG).\n",
    "- Steps: Create EOG reference, apply LMS filter, visualize changes."
   ]
  },
  {
   "cell_type": "code",
   "execution_count": null,
   "id": "cbbda47f-0cd7-4521-806f-6b92e6b80a4a",
   "metadata": {},
   "outputs": [],
   "source": [
    "# Extract denoised EEG data\n",
    "data_denoised = raw_denoised.get_data()  # Shape: (73, 389888)\n",
    "ch_names = raw_denoised.ch_names"
   ]
  },
  {
   "cell_type": "code",
   "execution_count": null,
   "id": "7c14fca6-27f7-48ae-9f66-0bb632ec04a1",
   "metadata": {},
   "outputs": [],
   "source": [
    "# Select EEG and EOG channels\n",
    "eeg_channels = [ch for ch in ch_names if ch not in ['LVEOG', 'RVEOG', 'LHEOG', 'RHEOG', 'M1', 'M2', 'Status']]\n",
    "eog_channels = ['LVEOG', 'RVEOG', 'LHEOG', 'RHEOG']\n",
    "eeg_indices = [ch_names.index(ch) for ch in eeg_channels]\n",
    "eog_indices = [ch_names.index(ch) for ch in eog_channels]"
   ]
  },
  {
   "cell_type": "code",
   "execution_count": null,
   "id": "719669b4-026b-49e1-8ba8-2e9d9407a182",
   "metadata": {},
   "outputs": [],
   "source": [
    "# Average EOG channels for reference signal\n",
    "eog_reference = np.mean(data_denoised[eog_indices, :], axis=0)"
   ]
  },
  {
   "cell_type": "code",
   "execution_count": null,
   "id": "5cd727ce-8f89-4ecb-9aa9-4f4303be036b",
   "metadata": {},
   "outputs": [],
   "source": [
    "# Plot of EOG reference\n",
    "plt.figure(figsize=(15, 3))\n",
    "plt.plot(raw_denoised.times[:2560], eog_reference[:2560])\n",
    "plt.title(\"EOG Reference Signal (First 10 Seconds)\")\n",
    "plt.xlabel(\"Time (s)\")\n",
    "plt.ylabel(\"Amplitude (µV)\")\n",
    "plt.show()"
   ]
  },
  {
   "cell_type": "markdown",
   "id": "6fd629fb-601a-46cd-a389-a367bbe392bc",
   "metadata": {},
   "source": [
    "## Interpretation: EOG Reference\n",
    "\n",
    "- Plot shows EOG signal (average of LVEOG, RVEOG, LHEOG, RHEOG).\n",
    "- Large peaks (e.g., 50–100 µV) indicate eye blinks.\n",
    "- These peaks will be used to remove blinks from EEG channels."
   ]
  },
  {
   "cell_type": "code",
   "execution_count": null,
   "id": "fc02412d-c800-4a77-837e-f890669a6904",
   "metadata": {},
   "outputs": [],
   "source": [
    "# LMS adaptive filtering\n",
    "mu = 0.01  # Adaptation rate\n",
    "filter_length = 32  # Filter length (125 ms at 256 Hz)\n",
    "n_samples = data_denoised.shape[1]\n",
    "data_adaptive = data_denoised.copy()"
   ]
  },
  {
   "cell_type": "code",
   "execution_count": null,
   "id": "f2163a63-97f6-48dd-b2cd-32f621419e58",
   "metadata": {},
   "outputs": [],
   "source": [
    "# Apply LMS to each EEG channel\n",
    "for idx in eeg_indices:\n",
    "    weights = np.zeros(filter_length)\n",
    "    output = np.zeros(n_samples)\n",
    "    eeg_signal = data_denoised[idx, :]\n",
    "    for n in range(filter_length, n_samples):\n",
    "        x_n = eog_reference[n-filter_length:n][::-1]  # Input vector\n",
    "        y_n = np.dot(weights, x_n)  # Filter output\n",
    "        error = eeg_signal[n] - y_n  # Error (cleaned signal)\n",
    "        output[n] = error\n",
    "        weights += 2 * mu * error * x_n  # Update weights\n",
    "    data_adaptive[idx, :] = output"
   ]
  },
  {
   "cell_type": "code",
   "execution_count": null,
   "id": "26321bba-97bf-40a1-bc6f-77acd67fc292",
   "metadata": {},
   "outputs": [],
   "source": [
    "# Create new MNE object\n",
    "raw_adaptive = raw_denoised.copy()\n",
    "raw_adaptive._data = data_adaptive"
   ]
  },
  {
   "cell_type": "code",
   "execution_count": null,
   "id": "ad0d04c6-d627-410d-bb87-ee847826e53e",
   "metadata": {},
   "outputs": [],
   "source": [
    "# Plot first 10 seconds before and after\n",
    "raw_denoised.plot(start=0, duration=10, n_channels=32, scalings='auto', title=\"Denoised EEG (Before Adaptive Filtering)\")\n",
    "raw_adaptive.plot(start=0, duration=10, n_channels=32, scalings='auto', title=\"Cleaned EEG (After Adaptive Filtering)\")"
   ]
  },
  {
   "cell_type": "markdown",
   "id": "c55653a2-b94f-46b6-8508-be90a2999202",
   "metadata": {},
   "source": [
    "## Interpretation: EEG Before vs After\n",
    "\n",
    "- **Before**: Frontal channels (e.g., Fp1, AF7) show large eye blink peaks.\n",
    "- **After**: Eye blink peaks reduced or gone in frontal channels.\n",
    "- Non-frontal channels (e.g., Pz, O1) mostly unchanged, preserving brain signals."
   ]
  },
  {
   "cell_type": "code",
   "execution_count": null,
   "id": "e48c58b0-0e0b-4bff-ac82-26bbe403d5b3",
   "metadata": {},
   "outputs": [],
   "source": [
    "# Plot PSD to compare\n",
    "raw_denoised.plot_psd(fmax=100, show=False, color='green', alpha=0.5)\n",
    "raw_adaptive.plot_psd(fmax=100, show=False, color='red', alpha=0.5)\n",
    "plt.title(\"PSD: Denoised (Green) vs Adaptive Filtered (Red)\")\n",
    "plt.show()"
   ]
  },
  {
   "cell_type": "markdown",
   "id": "b8c598f5-d3b9-43a8-9067-a50076128193",
   "metadata": {},
   "source": [
    "## Interpretation: PSD Comparison\n",
    "\n",
    "- Green: Denoised data.\n",
    "- Red: After adaptive filtering.\n",
    "- Low frequencies (e.g., 0.5–4 Hz) slightly reduced due to blink removal.\n",
    "- Main EEG bands (e.g., alpha 8–12 Hz) preserved."
   ]
  },
  {
   "cell_type": "markdown",
   "id": "d5150c4a-9f95-498b-bcdc-b457d3901ea7",
   "metadata": {},
   "source": [
    "# Final Conclusion\n",
    "- Band-Pass Filter (0.5–40 Hz): Removed low-frequency drifts (skin potentials, movement) and high-frequency noise (50 Hz power line, muscle artifacts).\n",
    "- Wavelet Denoising: Reduced remaining high-frequency noise (muscle artifacts) within 0.5–40 Hz, preserving EEG bands.\n",
    "- Adaptive Filtering: Removed eye blink artifacts, mainly in frontal channels (e.g., Fp1, AF7), using EOG reference."
   ]
  },
  {
   "cell_type": "code",
   "execution_count": null,
   "id": "bc7f281e-7694-4358-8684-ec73ce9048c1",
   "metadata": {},
   "outputs": [],
   "source": [
    "# Save the cleaned data\n",
    "saved_file_path = '/app/EEG_Cat_Study4_II_II_S1_cleaned.bdf'\n",
    "raw_adaptive.save(saved_file_path, fmt='bdf', overwrite=True)\n",
    "print(f\"Cleaned data saved to: {new_file_path}\")"
   ]
  }
 ],
 "metadata": {
  "kernelspec": {
   "display_name": "Python 3 (ipykernel)",
   "language": "python",
   "name": "python3"
  },
  "language_info": {
   "codemirror_mode": {
    "name": "ipython",
    "version": 3
   },
   "file_extension": ".py",
   "mimetype": "text/x-python",
   "name": "python",
   "nbconvert_exporter": "python",
   "pygments_lexer": "ipython3",
   "version": "3.11.12"
  }
 },
 "nbformat": 4,
 "nbformat_minor": 5
}
